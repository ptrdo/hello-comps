{
 "cells": [
  {
   "cell_type": "markdown",
   "id": "41440abf",
   "metadata": {
    "pycharm": {
     "name": "#%% md\n"
    }
   },
   "source": [
    "*This is pre-release documentation, but please [log issues](https://github.com/InstituteforDiseaseModeling/jupyter-notebooks-comps/issues) found.*"
   ]
  },
  {
   "cell_type": "code",
   "execution_count": null,
   "id": "c8a79f2e",
   "metadata": {},
   "outputs": [],
   "source": [
    "# LOAD THE CSS!\n",
    "from IPython.display import HTML\n",
    "HTML(\"<style>{}</style>\".format(open(\"custom.css\").read()))"
   ]
  },
  {
   "cell_type": "markdown",
   "id": "9f883732",
   "metadata": {
    "pycharm": {
     "name": "#%% md\n"
    }
   },
   "source": [
    "<a id=\"top\"></a>\n",
    "# COMPS and Jupyter `v0.1.1`\n",
    "---"
   ]
  },
  {
   "cell_type": "markdown",
   "id": "2fc7d7cd",
   "metadata": {
    "pycharm": {
     "name": "#%% md\n"
    }
   },
   "source": [
    "Demonstrations of transactions between **Jupyter Notebooks** and IDM's **Computational Modeling Platform Service** (COMPS)."
   ]
  },
  {
   "cell_type": "markdown",
   "id": "a2228c17",
   "metadata": {
    "pycharm": {
     "name": "#%% md\n"
    }
   },
   "source": [
    "COMPS provides for the submission, execution, and management of computational simulations on high-performance computing clusters (HPC). COMPS employs a scaleable RESTful service architecture, including a internet accessible website, [comps.idmod.org](https://comps.idmod.org).\n",
    "\n",
    "**There are at least two ways to interface with COMPS from a Notebook:**\n",
    "* The JavaScript method of interaction with the COMPS [website](http://comps.idmod.org).\n",
    "* The Python method of interaction with COMPS via the [PyCOMPS](https://github.com/InstituteforDiseaseModeling/pyCOMPS) library."
   ]
  },
  {
   "cell_type": "markdown",
   "id": "a8b33d50",
   "metadata": {
    "pycharm": {
     "name": "#%% md\n"
    }
   },
   "source": [
    "---\n",
    "**The JavaScript method** is the first to be addressed here. These interactions can be made from a Jupyter Notebook running in its customary browser-based read-eval-print loop environment (REPL). Since the COMPS UI is browser-based too, there is some degree of interaction that is possible between them, and this is best achieved using JavaScript.\n",
    "\n",
    "1. [JavaScript basics](#javascript_1) in a Notebook.\n",
    "2. [Open, focus, and access](#javascript_2) COMPS in another tab.\n",
    "3. [Using PostMessage](#javascript_3) for communicating with COMPS.\n",
    "4. [Exchanging complex data](#javascript_4) between a Notebook and COMPS.\n",
    "5. [Integrating Python and JavaScript](#javascript_5) within a Notebook.\n",
    "6. [Visualizing COMPS data](#javascript_6) from a Notebook.\n"
   ]
  },
  {
   "cell_type": "markdown",
   "id": "14ea8d48",
   "metadata": {
    "pycharm": {
     "name": "#%% md\n"
    }
   },
   "source": [
    "<blockquote style=\"background:khaki;border-left:2px solid red;margin:0;padding:1rem\"><b>NOTE:</b> Do NOT Run-All. Browser interactions can have unpredictable duration. <br/><b>NOTE:</b> This Notebook requires v3.7.0 of COMPS (yet to be released).</blockquote>"
   ]
  },
  {
   "cell_type": "markdown",
   "id": "d55a6302",
   "metadata": {
    "pycharm": {
     "name": "#%% md\n"
    }
   },
   "source": [
    "---\n",
    "<a id=\"javascript_1\" href=\"#top\" style=\"float:right\">TOP</a>\n",
    "### 1. JavaScript basics in Notebook\n",
    "\n",
    "1a. **The following commands** will employ Jupyter's built-in [magic commands](https://ipython.readthedocs.io/en/stable/interactive/magics.html) to run the cell block of Javascript code..."
   ]
  },
  {
   "cell_type": "code",
   "execution_count": null,
   "id": "2afb468b",
   "metadata": {
    "pycharm": {
     "name": "#%%\n"
    }
   },
   "outputs": [],
   "source": [
    "%%javascript\n",
    "\n",
    "// fundamentals...\n",
    "let message = \"Hello world!\";\n",
    "element.text(message);\n",
    "alert(message);"
   ]
  },
  {
   "cell_type": "markdown",
   "id": "636dc4bc",
   "metadata": {
    "pycharm": {
     "name": "#%% md\n"
    }
   },
   "source": [
    "---\n",
    "<a id=\"javascript_2\" href=\"#top\" style=\"float:right\">TOP</a>\n",
    "### 2. Open, focus, and access COMPS in another tab \n",
    "\n",
    "2a. **JavaScript is the language of browsers** and will be the means to communicate between this window (where this Jupyter Notebook is running) and the COMPS website (which will exist in another tab). Start by opening a new window, then return here to this window to execute the other commands that interact with opened window in other ways. Note that a reference to the window is kept so the other commands can be addressed to it..."
   ]
  },
  {
   "cell_type": "code",
   "execution_count": null,
   "id": "54e30186",
   "metadata": {
    "pycharm": {
     "name": "#%%\n"
    }
   },
   "outputs": [],
   "source": [
    "%%javascript\n",
    "\n",
    "// OPEN an instance of COMPS in a new tab...\n",
    "window[\"comps_instance\"] = window.open(\"https://comps.idmod.org\", \"_blank\");"
   ]
  },
  {
   "cell_type": "code",
   "execution_count": null,
   "id": "9c113b98",
   "metadata": {
    "pycharm": {
     "name": "#%%\n"
    }
   },
   "outputs": [],
   "source": [
    "%%javascript\n",
    "\n",
    "// GOTO to the COMPS tab...\n",
    "window.comps_instance.focus();"
   ]
  },
  {
   "cell_type": "code",
   "execution_count": null,
   "id": "c64c842e",
   "metadata": {
    "pycharm": {
     "name": "#%%\n"
    }
   },
   "outputs": [],
   "source": [
    "%%javascript\n",
    "\n",
    "// CLOSE the COMPS tab...\n",
    "window.comps_instance.close();\n",
    "element.text(\"The COMPS window has been closed!\")"
   ]
  },
  {
   "cell_type": "markdown",
   "id": "eae9569e",
   "metadata": {
    "pycharm": {
     "name": "#%% md\n"
    }
   },
   "source": [
    "2b. **Any window that opens another window** has a special relationship with it, but this is severely limited by browser security. Otherwise, one window could open any other website and then monkey with it. However, if these two websites are in agreement, some amount of primitive communication is possible. This time, more care is taken when opening the new window (so new windows aren't opened when these cells are rerun)..."
   ]
  },
  {
   "cell_type": "code",
   "execution_count": null,
   "id": "fab2acbb",
   "metadata": {
    "pycharm": {
     "name": "#%%\n"
    }
   },
   "outputs": [],
   "source": [
    "%%javascript\n",
    "\n",
    "// STORE the address to be opened (edit as necessary)...\n",
    "let CONFIG = { endpoint:\"https://comps-dev.idmod.org\" };\n",
    "\n",
    "if (\"comps_instance\" in window && window.comps_instance != null && !window.comps_instance.closed) {\n",
    "    \n",
    "    // a window is already open...\n",
    "    element.text(\"A COMPS window is already open!\");\n",
    "\n",
    "} else {\n",
    "    \n",
    "    // a window is not open, so open it...\n",
    "    window[\"comps_instance\"] = window.open(CONFIG.endpoint, \"_blank\");\n",
    "    element.text(\"A new COMPS window has been opened!\");\n",
    "    \n",
    "    setTimeout(function() {\n",
    "        window.comps_instance.blur();\n",
    "        window.focus();\n",
    "    }, 1000);\n",
    "}"
   ]
  },
  {
   "cell_type": "markdown",
   "id": "82c3a996",
   "metadata": {
    "pycharm": {
     "name": "#%% md\n"
    }
   },
   "source": [
    "---\n",
    "<a id=\"javascript_3\" href=\"#top\" style=\"float:right\">TOP</a>\n",
    "### 3. Using PostMessage to communicate with COMPS\n",
    "\n",
    "3a. **The window.postMessage method** will be the means of communicating between the browser windows. [This methodology](https://developer.mozilla.org/en-US/docs/Web/API/Window/postMessage) requires each website to be listening for communications from another. The COMPS website is already configured to listen, but this window needs a listener too. However, in the Notebook REPL, these could accumulate, so only one will be added..."
   ]
  },
  {
   "cell_type": "code",
   "execution_count": null,
   "id": "9bc2ec48",
   "metadata": {
    "pycharm": {
     "name": "#%%\n"
    }
   },
   "outputs": [],
   "source": [
    "%%javascript\n",
    "\n",
    "// THIS CODE IS THE ESSENTIAL LISTENER AND HANDLER FOR POSTMESSAGES\n",
    "\n",
    "// HANDLER called upon getting a postMessage from COMPS... \n",
    "let responder = function(payload) {\n",
    "    \n",
    "    if (\"info\" in payload && \"callback\" in payload.info) {\n",
    "        \n",
    "        // a callback has been configured...\n",
    "        console.log(\"A postMessage is being redirected to a callback!\", payload);\n",
    "        if (payload.info.callback in window && window[payload.info.callback] instanceof Function) {\n",
    "            \n",
    "            window[payload.info.callback](payload);\n",
    "        }\n",
    "        \n",
    "    } else if (\"current_element\" in window && \"response\" in payload) {\n",
    "        \n",
    "        // or a current output is available...\n",
    "        if (/object/i.test(typeof payload.response)) {\n",
    "            window.current_element.text(`Message received: See the browser's console!`);\n",
    "            console.log(\"A postMessage has been received!\", payload); \n",
    "        } else {\n",
    "            window.current_element.text(`Message received: ${payload.response}`);\n",
    "        }\n",
    "    \n",
    "    } else {\n",
    "        \n",
    "        // or trace the response to the browser console...\n",
    "        console.log(\"A postMessage has been received!\", payload);\n",
    "        alert(`A postMessage has been received!\\nCheck the console for more!`);\n",
    "    }\n",
    "};\n",
    "\n",
    "// LISTENER for postMessages from elsewhere (COMPS)...\n",
    "if (\"comps_listener\" in window) {\n",
    "    element.text(\"A postMessage event listener was already attached!\");\n",
    "} else {\n",
    "    window[\"comps_listener\"] =\n",
    "    window.addEventListener(\"message\", (event) => {\n",
    "        if (!!event && \"isTrusted\" in event && !!event.isTrusted) {       \n",
    "            if (\"data\" in event) {\n",
    "                responder(event.data);\n",
    "            }\n",
    "        }\n",
    "    }, true);\n",
    "    element.text(\"A postMessage event listener has been attached!\");\n",
    "}"
   ]
  },
  {
   "cell_type": "markdown",
   "id": "e430ca88",
   "metadata": {
    "pycharm": {
     "name": "#%% md\n"
    }
   },
   "source": [
    "---\n",
    "3b. **Sending a communication to COMPS** is expected to have a certain structure. Basically, it's an object of name:value pairs. Some of these properties are required (e/g `getter` and `observer`) telling COMPS what should be done, and others can be arbitrary or provide arguments or data required to perform the requested task. Here's a very simple example that asks the COMPS instance for its `applicationName`..."
   ]
  },
  {
   "cell_type": "code",
   "execution_count": null,
   "id": "e46574f0",
   "metadata": {
    "pycharm": {
     "name": "#%%\n"
    }
   },
   "outputs": [],
   "source": [
    "%%javascript\n",
    "\n",
    "window[\"current_element\"] = element;\n",
    "\n",
    "// ASK the COMPS instance a question...\n",
    "window.comps_instance.postMessage({\n",
    "    getter:\"comps.app.getApplicationName\",\n",
    "    observer:window.location.href,\n",
    "    myVariable:\"someValue\"\n",
    "}, \"*\");"
   ]
  },
  {
   "cell_type": "markdown",
   "id": "162844ca",
   "metadata": {
    "pycharm": {
     "name": "#%% md\n"
    }
   },
   "source": [
    "---\n",
    "3c. **Customized callbacks** will be needed according to the variety of things that can be done. Any arbitrary property (e/g `callback`) will be returned by COMPS and then can be used to disseminate the response..."
   ]
  },
  {
   "cell_type": "code",
   "execution_count": null,
   "id": "79b6d6f7",
   "metadata": {
    "pycharm": {
     "name": "#%%\n"
    }
   },
   "outputs": [],
   "source": [
    "%%javascript\n",
    "\n",
    "window[\"doThis\"] = function(payload) {    \n",
    "    element.text(`Message received by doThis: ${payload.response}`);\n",
    "};\n",
    "\n",
    "// ASK the COMPS instance another question...\n",
    "window.comps_instance.postMessage({\n",
    "    getter:\"comps.app.getVersion\",\n",
    "    observer:window.location.href,\n",
    "    callback:\"doThis\"\n",
    "}, \"*\");"
   ]
  },
  {
   "cell_type": "markdown",
   "id": "2e9aa872",
   "metadata": {
    "pycharm": {
     "name": "#%% md\n"
    }
   },
   "source": [
    "---\n",
    "3d. **Signin to COMPS** can be accomplished via this same postMessage methodology, but extreme care must be taken to **never store credentials** in a Notebook. For reference, here is a relatively safe alternative..."
   ]
  },
  {
   "cell_type": "code",
   "execution_count": null,
   "id": "686592c8",
   "metadata": {
    "pycharm": {
     "name": "#%%\n"
    }
   },
   "outputs": [],
   "source": [
    "%%javascript\n",
    "\n",
    "// THIS CODE IS FOR SIGNIN TO COMPS FROM A NOTEBOOK\n",
    "\n",
    "window[\"comps_signin\"] = function(payload) {\n",
    "    if (!tries) {\n",
    "        element.text(`Authentication?: failed.`);\n",
    "        return;\n",
    "    } else if (!!payload && \"response\" in payload && !!payload.response) {\n",
    "        console.log(\"Authenticated?\", payload);\n",
    "        element.text(`Authentication?: ${payload.response}`);\n",
    "    } else {\n",
    "        --tries;\n",
    "        setTimeout(function(){\n",
    "            window.comps_instance.postMessage({\n",
    "                getter:\"comps.auth.getToken\",\n",
    "                observer:window.location.href,\n",
    "                callback:\"comps_signin\"\n",
    "            }, \"*\");            \n",
    "        }, 1000); // ALLOW TIME for signin roundtrip\n",
    "    }\n",
    "};\n",
    "\n",
    "let pw, un=prompt(\"COMPS UserName:\"), tries = 7; \n",
    "if (un) {  \n",
    "    pw = prompt(\"COMPS Password:\");\n",
    "    if (pw) {\n",
    "        window.comps_instance.postMessage({\n",
    "            method:\"comps.auth.signin\",\n",
    "            args:[{username:un,password:pw}],\n",
    "            observer:window.location.href,\n",
    "            callback:\"comps_signin\"\n",
    "        }, \"*\");\n",
    "        un=pw=null;\n",
    "    } else {\n",
    "        alert(\"a Password is required!\");\n",
    "    }\n",
    "} else {\n",
    "    if (confirm(\"a UserName is required!\")) {\n",
    "        Jupyter.notebook.execute_cells([22]);\n",
    "    }    \n",
    "}"
   ]
  },
  {
   "cell_type": "markdown",
   "id": "a63cb2c0",
   "metadata": {
    "pycharm": {
     "name": "#%% md\n"
    }
   },
   "source": [
    "---\n",
    "<a id=\"javascript_4\" href=\"#top\" style=\"float:right\">TOP</a>\n",
    "### 4. Exchanging complex data between a Notebook and COMPS\n",
    "\n",
    "4a. **Complex data** could require many independent calls to the COMPS database, but the COMPS website makes many of these calls itself to aggregate information for display. In some cases, it might be more convenient to simply navigate to a particular view and then capture everything that the website has assembled. This simply navigates COMPS to the latest Simulations..."
   ]
  },
  {
   "cell_type": "code",
   "execution_count": null,
   "id": "96cc9476",
   "metadata": {
    "pycharm": {
     "name": "#%%\n"
    }
   },
   "outputs": [],
   "source": [
    "%%javascript\n",
    "// RUN THIS CELL ONLY IF THE CELLS ABOVE HAVE NOT YET BEEN RUN!\n",
    "// You will need to allow COMPS to load fully and then return to this tab.\n",
    "Jupyter.notebook.execute_cells([1,14,16,22]);"
   ]
  },
  {
   "cell_type": "code",
   "execution_count": null,
   "id": "17c5d274",
   "metadata": {
    "pycharm": {
     "name": "#%%\n"
    }
   },
   "outputs": [],
   "source": [
    "%%javascript\n",
    "\n",
    "// SECOND, this handler is called upon postMessage response...\n",
    "window[\"comps_navigation\"] = function(payload) {\n",
    "    if (\"response\" in payload) {\n",
    "        \n",
    "        // THIRD, go to the current user's Simulations...\n",
    "        window.comps_instance.postMessage({\n",
    "            method:\"comps.router.locationHash\",\n",
    "            args:`#explore/Simulations?filters=Owner=${payload.response}`,\n",
    "            observer:window.location.href\n",
    "        }, \"*\");\n",
    "        \n",
    "        element.text(`COMPS has navigated to the Simulations owned by ${payload.response}`);\n",
    "    } else {\n",
    "        element.text(\"A problem has occurred.\");\n",
    "    }\n",
    "};\n",
    "\n",
    "// FIRST, get the current user...\n",
    "window.comps_instance.postMessage({\n",
    "    method:\"comps.auth.getUserName\",\n",
    "    observer:window.location.href,\n",
    "    callback:\"comps_navigation\"\n",
    "}, \"*\");"
   ]
  },
  {
   "cell_type": "markdown",
   "id": "2efdad79",
   "metadata": {
    "pycharm": {
     "name": "#%% md\n"
    }
   },
   "source": [
    "---\n",
    "4b. **The COMPS website is a visualization** with a wealth of data drawing many interactive layers of information. This next call gets data that has been filtered and assembled from several requests, but is now available at once..."
   ]
  },
  {
   "cell_type": "code",
   "execution_count": null,
   "id": "922fdd34",
   "metadata": {
    "pycharm": {
     "name": "#%%\n"
    }
   },
   "outputs": [],
   "source": [
    "%%javascript\n",
    "\n",
    "// FIRST, select the topmost simulation...\n",
    "window.comps_instance.postMessage({\n",
    "    method:\"comps.modules.explore.setSelectionInSequence\",\n",
    "    args:1,\n",
    "    observer:window.location.href\n",
    "}, \"*\");"
   ]
  },
  {
   "cell_type": "code",
   "execution_count": null,
   "id": "b3ffee7f",
   "metadata": {
    "pycharm": {
     "name": "#%%\n"
    }
   },
   "outputs": [],
   "source": [
    "%%javascript\n",
    "\n",
    "window[\"current_element\"] = element;\n",
    "\n",
    "// SECOND, get the current Simulation's data...\n",
    "window.comps_instance.postMessage({\n",
    "    method:\"comps.modules.explore.getSelection\",\n",
    "    observer:window.location.href\n",
    "}, \"*\");"
   ]
  },
  {
   "cell_type": "markdown",
   "id": "b43b11bc",
   "metadata": {
    "pycharm": {
     "name": "#%% md\n"
    }
   },
   "source": [
    "---\n",
    "<a id=\"javascript_5\" href=\"#top\" style=\"float:right\">TOP</a>\n",
    "### 5. Integrating Python and JavaScript\n",
    "\n",
    "5a. **Storing COMPS data to Python** is achieved by executing the `IPython.notebook.kernel` upon the postMessage response, as demonstrated here..."
   ]
  },
  {
   "cell_type": "code",
   "execution_count": null,
   "id": "f5e5285e",
   "metadata": {
    "pycharm": {
     "name": "#%%\n"
    }
   },
   "outputs": [],
   "source": [
    "%%javascript\n",
    "\n",
    "// STORE this Simulation Id for future steps...\n",
    "window[\"comps_simId\"] = \"\";\n",
    "\n",
    "// STORE a Notebook variable with the response...\n",
    "window[\"comps_getSelection\"] = function(payload) {\n",
    "    if (\"response\" in payload && \"Id\" in payload.response) {\n",
    "        \n",
    "        IPython.notebook.kernel.execute(\n",
    "          \"comps_json=\" + JSON.stringify(JSON.stringify(payload.response, null, 4))\n",
    "        );\n",
    "           \n",
    "        window.comps_simId = payload.response.Id;\n",
    "        element.text(`Information received for Simulation Id: ${window.comps_simId}`);\n",
    "        \n",
    "    } else {\n",
    "        element.text(\"No information was found!\");\n",
    "    }\n",
    "}\n",
    "\n",
    "// SEND the current simulation to the comps_getSelection callback...\n",
    "window.comps_instance.postMessage({\n",
    "    method:\"comps.modules.explore.getSelection\",\n",
    "    observer:window.location.href,\n",
    "    callback:\"comps_getSelection\"\n",
    "}, \"*\");"
   ]
  },
  {
   "cell_type": "code",
   "execution_count": null,
   "id": "96865758",
   "metadata": {
    "pycharm": {
     "name": "#%%\n"
    }
   },
   "outputs": [],
   "source": [
    "import json;\n",
    "\n",
    "# RESULT from kernal.execute above...\n",
    "print(\"comps_json is\",type(comps_json))\n",
    "\n",
    "# DECODE the str to a python dict...\n",
    "notebook_json = json.loads(comps_json)\n",
    "\n",
    "# CONVERT for a pretty json printout...\n",
    "notebook_json_pretty = json.dumps(notebook_json, indent=4)\n",
    "\n",
    "# PROOF...\n",
    "print(\"notebook_json is\",type(notebook_json))\n",
    "print(\"notebook_json.DateCreated =\",notebook_json[\"DateCreated\"])\n",
    "print(notebook_json_pretty)"
   ]
  },
  {
   "cell_type": "markdown",
   "id": "5c07c0ef",
   "metadata": {
    "pycharm": {
     "name": "#%% md\n"
    }
   },
   "source": [
    "---\n",
    "\n",
    "5b **Fetching REST data through COMPS** does not require the website to navigate to a particular state, but is achieved by calling the COMPS API directly via the website's JavaScript library. For example, if we have a Simulation Id (from above), the `stdout.txt` can be gotten this way..."
   ]
  },
  {
   "cell_type": "code",
   "execution_count": null,
   "id": "e708ac8a",
   "metadata": {
    "pycharm": {
     "name": "#%%\n"
    }
   },
   "outputs": [],
   "source": [
    "%%javascript\n",
    "\n",
    "// NOTE: this step requires window.comps_simId from previous steps!\n",
    "\n",
    "// STORE a Notebook variable with the response...\n",
    "window[\"comps_getOutput\"] = function(payload) {\n",
    "    if (\"response\" in payload && !!payload.response) {\n",
    "        \n",
    "        let output = JSON.parse(payload.response);\n",
    "        let stdout = output.Resources.find(element => element.FriendlyName == \"stdout.txt\");\n",
    "        \n",
    "        IPython.notebook.kernel.execute(\n",
    "          \"comps_stdout_url='\" + stdout.Url +\"'\"\n",
    "        );\n",
    "        \n",
    "        element.text(`comps_stdout_url: ${stdout.Url}`);\n",
    "        \n",
    "    } else {\n",
    "        element.text(\"No information was found!\");\n",
    "    }\n",
    "}\n",
    "\n",
    "// SEND the current simulation to the comps_simulation callback...\n",
    "window.comps_instance.postMessage({\n",
    "    rest:\"comps.restclient.get\",\n",
    "    args:`/asset/Simulations/${window.comps_simId}/output/?flatten=1&format=json`,\n",
    "    observer:window.location.href,\n",
    "    callback:\"comps_getOutput\"\n",
    "}, \"*\");"
   ]
  },
  {
   "cell_type": "code",
   "execution_count": null,
   "id": "c9826f35",
   "metadata": {
    "pycharm": {
     "name": "#%%\n"
    }
   },
   "outputs": [],
   "source": [
    "import requests\n",
    "response = requests.get(comps_stdout_url)\n",
    "print(response.text)\n",
    "# DISPLAY the stdout.txt..."
   ]
  },
  {
   "cell_type": "markdown",
   "id": "f403cc36",
   "metadata": {
    "pycharm": {
     "name": "#%% md\n"
    }
   },
   "source": [
    "---\n",
    "<a id=\"javascript_6\" href=\"#top\" style=\"float:right\">TOP</a>\n",
    "### 6. Visualizing COMPS data from a Notebook"
   ]
  },
  {
   "cell_type": "markdown",
   "id": "7d8e87b2",
   "metadata": {
    "pycharm": {
     "name": "#%% md\n"
    }
   },
   "source": [
    "6a **To visualize the output of a COMPS Simulation** involves streaming its output data. For this example, the standard `InsetChart.json` format will be used, but this process can be adapted as required. A first step could be to get the available channels of data..."
   ]
  },
  {
   "cell_type": "code",
   "execution_count": null,
   "id": "528ec2a6",
   "metadata": {
    "pycharm": {
     "name": "#%%\n"
    }
   },
   "outputs": [],
   "source": [
    "%%javascript\n",
    "// RUN THIS CELL ONLY IF THE CELLS ABOVE HAVE NOT YET BEEN RUN!\n",
    "// You will need to allow COMPS to load fully and then return to this tab.\n",
    "Jupyter.notebook.execute_cells([1,14,16,22]);"
   ]
  },
  {
   "cell_type": "code",
   "execution_count": null,
   "id": "50929613",
   "metadata": {
    "pycharm": {
     "name": "#%%\n"
    }
   },
   "outputs": [],
   "source": [
    "%%javascript\n",
    "\n",
    "// NOTE: COMPS Simulation (comps-dev) MUST have InsetChart.json data...\n",
    "let simId = \"42a97bfe-d1c6-ec11-92e9-f0921c167864\";\n",
    "\n",
    "// STORE a Notebook variable with the response...\n",
    "window[\"comps_getChannels\"] = function(payload) {\n",
    "    if (\"response\" in payload && !!payload.response) {\n",
    "        \n",
    "        let info = JSON.parse(payload.response);\n",
    "        console.warn(\"Successful REST call for Inset channels!\");\n",
    "        console.log(info);\n",
    "        element.text(`Inset channels received: ${info.Channels}`);\n",
    "        \n",
    "        // STORE the channels to a python string...\n",
    "        IPython.notebook.kernel.execute(\n",
    "          \"comps_channels_list=\" + JSON.stringify(info.Channels.toString())\n",
    "        );\n",
    "\n",
    "        \n",
    "    } else {\n",
    "        element.text(\"No information was found!\");\n",
    "    }\n",
    "}\n",
    "\n",
    "// SEND the current simulation to the comps_getSelection callback...\n",
    "window.comps_instance.postMessage({\n",
    "    rest:\"comps.restclient.postAsync\",\n",
    "    args: \n",
    "    [\n",
    "        \"/api/ChannelData/Metadata?format=json\",\n",
    "        JSON.stringify({\"SimulationIds\":[simId],\"Filename\":\"output/InsetChart.json\"})\n",
    "    ],\n",
    "    observer:window.location.href,\n",
    "    callback:\"comps_getChannels\"\n",
    "}, \"*\");"
   ]
  },
  {
   "cell_type": "code",
   "execution_count": null,
   "id": "2bd1fdbf",
   "metadata": {
    "pycharm": {
     "name": "#%%\n"
    }
   },
   "outputs": [],
   "source": [
    "# PRINT the channels list from python...\n",
    "comps_channels_array = comps_channels_list.split(',')\n",
    "print('\\n'.join(comps_channels_array))"
   ]
  },
  {
   "cell_type": "markdown",
   "id": "baa28c69",
   "metadata": {
    "pycharm": {
     "name": "#%% md\n"
    }
   },
   "source": [
    "6b **To download the data** requires a POST to the COMPS REST API with a payload including the Simulation Id, the output file that holds the data (e/g InsetChart.json), and then the name of the channel desired..."
   ]
  },
  {
   "cell_type": "code",
   "execution_count": null,
   "id": "760c9bd7",
   "metadata": {
    "pycharm": {
     "name": "#%%\n"
    }
   },
   "outputs": [],
   "source": [
    "%%javascript\n",
    "\n",
    "// NOTE: COMPS Simulation (comps-dev) MUST have InsetChart.json data...\n",
    "let simId = \"42a97bfe-d1c6-ec11-92e9-f0921c167864\";\n",
    "let channel = \"Births\";\n",
    "\n",
    "// STORE a Notebook variable with the response...\n",
    "window[\"comps_getData\"] = function(payload) {\n",
    "    if (\"response\" in payload && !!payload.response) {\n",
    "        \n",
    "        let data = JSON.parse(payload.response);\n",
    "        console.warn(\"Successful REST call for Inset channel data!\");\n",
    "        element.html(`Input channel data received:<ul><li>${data.Info.join(\"</li><li>\")}</ul>`);   \n",
    "        \n",
    "        // STORE the channels to a python string...\n",
    "        IPython.notebook.kernel.execute(\n",
    "          \"comps_channel_data='\" + data.Simulations[simId][channel].Data.toString() + \"'\"\n",
    "        );\n",
    "\n",
    "        \n",
    "    } else {\n",
    "        element.text(\"No information was found!\");\n",
    "    }\n",
    "}\n",
    "\n",
    "// SEND the current simulation to the comps_getSelection callback...\n",
    "window.comps_instance.postMessage({\n",
    "    rest:\"comps.restclient.postAsync\",\n",
    "    args: \n",
    "    [\n",
    "        \"/api/ChannelData/Datastream?format=json\",\n",
    "        JSON.stringify({\n",
    "            \"SimulationIds\":[simId],\n",
    "            \"Filename\":\"output/InsetChart.json\",\n",
    "            \"Channels\":[channel]\n",
    "        })\n",
    "    ],\n",
    "    observer:window.location.href,\n",
    "    callback:\"comps_getData\"\n",
    "}, \"*\");"
   ]
  },
  {
   "cell_type": "markdown",
   "id": "fb0dd1f2",
   "metadata": {
    "pycharm": {
     "name": "#%% md\n"
    }
   },
   "source": [
    "6c **To plot the data** requires converting the datastream to the proper format (int), then loading a charting library (Highcharts, as used in COMPS), and then configuring the chart for display... "
   ]
  },
  {
   "cell_type": "code",
   "execution_count": null,
   "outputs": [],
   "source": [
    "# CONVERT the channel data into Python...\n",
    "comps_channel_points = comps_channel_data.split(',')\n",
    "points = list(map(int, comps_channel_points))\n",
    "print(points)"
   ],
   "metadata": {
    "collapsed": false,
    "pycharm": {
     "name": "#%%\n"
    }
   }
  },
  {
   "cell_type": "code",
   "execution_count": null,
   "outputs": [],
   "source": [
    "# INSTALL the highcharts library...\n",
    "# !pip install python-highcharts\n",
    "\n",
    "from highcharts import Highchart\n",
    "\n",
    "# CONFIGURE and plot the chart...\n",
    "H = Highchart(width=600, height=400)\n",
    "H.set_options('title',{'text': 'Births'})\n",
    "H.set_options('subtitle',{'text':'42a97bfe-d1c6-ec11-92e9-f0921c167864'})\n",
    "H.set_options('xAxis',{'title':{'text':'Time Steps'}})\n",
    "H.set_options('yAxis',{'title':{'text':'Births'},'lineWidth':2})\n",
    "H.set_options('chart',{'backgroundColor':'transparent','style':{'fontFamily':'IBM Plex Sans'}})\n",
    "H.set_options('legend',{'enabled':False})\n",
    "H.set_options('tooltip',{'pointFormat':'<b>Time Step:</b> {point.x}<br/><b>Births:</b> {point.y}'})\n",
    "H.add_data_set(points)\n",
    "H"
   ],
   "metadata": {
    "collapsed": false,
    "pycharm": {
     "name": "#%%\n"
    }
   }
  },
  {
   "cell_type": "code",
   "execution_count": null,
   "id": "6c2b5b7d",
   "metadata": {
    "pycharm": {
     "name": "#%%\n"
    }
   },
   "outputs": [],
   "source": [
    "# INSTALL the highcharts library...\n",
    "# !pip install python-highcharts\n",
    "\n",
    "from highcharts import Highchart\n",
    "\n",
    "# CONFIGURE and plot the chart...\n",
    "H = Highchart(width=600, height=400)\n",
    "H.set_options('title',{'text': 'Births'})\n",
    "H.set_options('subtitle',{'text':'42a97bfe-d1c6-ec11-92e9-f0921c167864'})\n",
    "H.set_options('xAxis',{'title':{'text':'Time Steps'}})\n",
    "H.set_options('yAxis',{'title':{'text':'Births'},'lineWidth':2})\n",
    "H.set_options('chart',{'backgroundColor':'transparent','style':{'fontFamily':'IBM Plex Sans'}})\n",
    "H.set_options('legend',{'enabled':False})\n",
    "H.set_options('tooltip',{'pointFormat':'<b>Time Step:</b> {point.x}<br/><b>Births:</b> {point.y}'})\n",
    "H.add_data_set(points)\n",
    "H"
   ]
  },
  {
   "cell_type": "markdown",
   "id": "34dfe07b",
   "metadata": {
    "pycharm": {
     "name": "#%% md\n"
    }
   },
   "source": [
    "---\n",
    "<a href=\"#python_1\" style=\"float:right\">TOP</a>\n",
    "### Python interaction with the COMPS via pyCOMPS\n",
    "\n",
    "*TODO* "
   ]
  },
  {
   "cell_type": "code",
   "execution_count": null,
   "id": "6659c0ec",
   "metadata": {
    "pycharm": {
     "name": "#%%\n"
    }
   },
   "outputs": [],
   "source": [
    "# !pip install pyCOMPS -i https://packages.idmod.org/api/pypi/pypi-production/simple\n",
    "\n",
    "# OR\n",
    "# C:\\[path\\for\\package\\source]\n",
    "# git clone https://github.com/InstituteforDiseaseModeling/pyCOMPS.git\n",
    "# cd pyCOMPS\n",
    "# python setup.py install"
   ]
  },
  {
   "cell_type": "code",
   "execution_count": null,
   "id": "059249fa",
   "metadata": {
    "pycharm": {
     "name": "#%%\n"
    }
   },
   "outputs": [],
   "source": [
    "# NOTE: When packages not found\n",
    "# pip -V\n",
    "# C:\\Users\\[username]\\AppData\\Local\\Programs\\Python\\Python39\\lib\\site-packages\\"
   ]
  },
  {
   "cell_type": "code",
   "execution_count": null,
   "id": "76120cb0",
   "metadata": {
    "pycharm": {
     "name": "#%%\n"
    }
   },
   "outputs": [],
   "source": [
    "# import os\n",
    "# import sys"
   ]
  },
  {
   "cell_type": "code",
   "execution_count": null,
   "id": "a942b7a3",
   "metadata": {
    "pycharm": {
     "name": "#%%\n"
    }
   },
   "outputs": [],
   "source": [
    "from COMPS import Client\n",
    "from COMPS import AuthManager, CredentialPrompt\n",
    "from COMPS.Data import QueryCriteria, Experiment\n",
    "from COMPS.utils.get_output_files_for_experiment import get_files\n",
    "\n",
    "compshost = 'https://comps2.idmod.org'\n",
    "if __name__ == '__main__':\n",
    "    Client.login(compshost)\n",
    "    last_exp = Experiment.get(query_criteria=QueryCriteria().where('owner=psylwester').orderby('date_created desc').count(1))[0]\n",
    "    print(last_exp)\n",
    "    get_files(last_exp.id, ['stdout.txt'])"
   ]
  }
 ],
 "metadata": {
  "kernelspec": {
   "display_name": "Python 3 (ipykernel)",
   "language": "python",
   "name": "python3"
  },
  "language_info": {
   "codemirror_mode": {
    "name": "ipython",
    "version": 3
   },
   "file_extension": ".py",
   "mimetype": "text/x-python",
   "name": "python",
   "nbconvert_exporter": "python",
   "pygments_lexer": "ipython3",
   "version": "3.9.11"
  }
 },
 "nbformat": 4,
 "nbformat_minor": 5
}