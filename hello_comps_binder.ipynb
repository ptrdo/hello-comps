{
 "cells": [
  {
   "cell_type": "code",
   "execution_count": null,
   "id": "d098116d",
   "metadata": {
    "tags": []
   },
   "outputs": [],
   "source": [
    "from IPython.display import display, Javascript, HTML\n",
    "js = '''\n",
    "    element.textContent = \"Hello IPython.display!\";\n",
    "    '''\n",
    "\n",
    "display(Javascript(js))   "
   ]
  },
  {
   "cell_type": "code",
   "execution_count": null,
   "id": "3df14197-221d-4aad-bc27-4cbc8f1efbb5",
   "metadata": {},
   "outputs": [],
   "source": [
    "from notebookjs import execute_js"
   ]
  },
  {
   "cell_type": "code",
   "execution_count": null,
   "id": "3992a2f3-e47f-4cac-bfb6-0275c58f5905",
   "metadata": {},
   "outputs": [],
   "source": [
    "hello_js = \"\"\"\n",
    "function hello(selector, data){\n",
    "    document.querySelector(selector).textContent=data.text;\n",
    "}\n",
    "\"\"\""
   ]
  },
  {
   "cell_type": "code",
   "execution_count": null,
   "id": "051cee1f-6dd5-41d8-b5d1-c3d9c660b3f3",
   "metadata": {},
   "outputs": [],
   "source": [
    "execute_js(hello_js, \"hello\", {\"text\": \"Hello NotebookJS\"})"
   ]
  },
  {
   "cell_type": "code",
   "execution_count": null,
   "id": "fc29133b-9125-4b47-80b0-6f71630963c6",
   "metadata": {},
   "outputs": [],
   "source": [
    "with open(\"./hello_comps.js\", \"r\") as f:\n",
    "    comps_lib = f.read()"
   ]
  },
  {
   "cell_type": "code",
   "execution_count": null,
   "id": "7559d7b1-5618-4374-95c4-fcdf3830d12c",
   "metadata": {},
   "outputs": [],
   "source": [
    "execute_js(comps_lib, \"comps\", {\"test\":\"cookies\"})"
   ]
  },
  {
   "cell_type": "code",
   "execution_count": null,
   "id": "38191feb-d5d0-4acc-967f-e0d8447df89e",
   "metadata": {},
   "outputs": [],
   "source": [
    "execute_js(comps_lib, \"comps\", {\"test\":\"signin\",\"username\":\"psylwester\",\"password\":\"Password123\"})"
   ]
  },
  {
   "cell_type": "code",
   "execution_count": null,
   "id": "d52a8588-2ca3-4f42-970e-3925ab733e6e",
   "metadata": {},
   "outputs": [],
   "source": [
    "execute_js(comps_lib, \"comps\", {\"test\":\"window\"})"
   ]
  },
  {
   "cell_type": "code",
   "execution_count": null,
   "id": "fecbcaaf-07ed-44f8-93bf-7ec7b113497b",
   "metadata": {},
   "outputs": [],
   "source": []
  }
 ],
 "metadata": {
  "kernelspec": {
   "display_name": "Python 3 (ipykernel)",
   "language": "python",
   "name": "python3"
  },
  "language_info": {
   "codemirror_mode": {
    "name": "ipython",
    "version": 3
   },
   "file_extension": ".py",
   "mimetype": "text/x-python",
   "name": "python",
   "nbconvert_exporter": "python",
   "pygments_lexer": "ipython3",
   "version": "3.9.11"
  }
 },
 "nbformat": 4,
 "nbformat_minor": 5
}
