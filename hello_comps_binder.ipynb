{
 "cells": [
  {
   "cell_type": "markdown",
   "id": "892b3876",
   "metadata": {},
   "source": [
    "###### This is pre-release documentation, but please **[log issues](https://github.com/InstituteforDiseaseModeling/jupyter-notebooks-comps/issues)** found."
   ]
  },
  {
   "cell_type": "markdown",
   "id": "feccdf9e",
   "metadata": {},
   "source": [
    "# COMPS and Jupyter `v0.0.1`"
   ]
  },
  {
   "cell_type": "markdown",
   "id": "7fce7c70",
   "metadata": {},
   "source": [
    "Demonstrations of transactions between **Jupyter Notebooks** and IDM's **Computational Modeling Platform Service** (COMPS)."
   ]
  },
  {
   "cell_type": "markdown",
   "id": "f4a8b77c",
   "metadata": {},
   "source": [
    "COMPS provides for the submission, execution, and management of computational simulations on high-performance computing clusters (HPC). COMPS employs a scaleable RESTful service architecture, including a internet accessible website, [comps.idmod.org](https://comps.idmod.org)."
   ]
  },
  {
   "cell_type": "markdown",
   "id": "0e64f873",
   "metadata": {},
   "source": [
    "<blockquote style=\"background:lightpink;margin:0;padding:1rem\"><b>NOTE: This Notebook currently only works in a local environment with version v3.7.0 of COMPS (yet to be released).</b></blockquote>"
   ]
  },
  {
   "cell_type": "markdown",
   "id": "74ab09ba",
   "metadata": {},
   "source": [
    "There are at least two ways to interface with COMPS from a Notebook:\n",
    "- With JavaScript interacting with the website itself.\n",
    "- With Python via the [PyCOMPS](https://github.com/InstituteforDiseaseModeling/pyCOMPS) library.\n",
    "\n",
    "The first to be addressed here is the JavaScript method. These interactions can be made from a Jupyter Notebook running in its customary browser-based read-eval-print loop environment (REPL). Since the COMPS UI is browser-based too, there is some degree of interaction that is possible between them, and this is best achieved using JavaScript.\n",
    "\n",
    "The following commands with load and then test [NotebookJS](https://github.com/jorgehpo/notebookJS) a popular Python library for executing JavaScript commands. Execute these now so that the library is available for subsequent code..."
   ]
  },
  {
   "cell_type": "code",
   "execution_count": null,
   "id": "3df14197-221d-4aad-bc27-4cbc8f1efbb5",
   "metadata": {},
   "outputs": [],
   "source": [
    "from notebookjs import execute_js"
   ]
  },
  {
   "cell_type": "code",
   "execution_count": null,
   "id": "3992a2f3-e47f-4cac-bfb6-0275c58f5905",
   "metadata": {},
   "outputs": [],
   "source": [
    "hello_js = \"\"\"\n",
    "function hello(selector, data){\n",
    "    document.querySelector(selector).textContent=data.text;\n",
    "}\n",
    "\"\"\""
   ]
  },
  {
   "cell_type": "code",
   "execution_count": null,
   "id": "051cee1f-6dd5-41d8-b5d1-c3d9c660b3f3",
   "metadata": {},
   "outputs": [],
   "source": [
    "execute_js(hello_js, \"hello\", {\"text\": \"Hello NotebookJS!\"})"
   ]
  },
  {
   "cell_type": "markdown",
   "source": [
    "Quite a lot of JavaScript will be required to interact between two windows of a browser, from Python expressions to JavaScript, so [a custom library](https://github.com/ptrdo/hello-comps/blob/main/hello_comps.js) of JavaScript will be loaded here into memory to facilitate this communication while keeping the Notebook relatively simple..."
   ],
   "metadata": {
    "collapsed": false,
    "pycharm": {
     "name": "#%% md\n"
    }
   }
  },
  {
   "cell_type": "code",
   "execution_count": null,
   "outputs": [],
   "source": [
    "with open(\"./hello_comps.js\", \"r\") as f:\n",
    "    comps_lib = f.read()"
   ],
   "metadata": {
    "collapsed": false,
    "pycharm": {
     "name": "#%%\n"
    }
   }
  },
  {
   "cell_type": "markdown",
   "source": [
    "The following commands will call the NotebookJS library's `execute_js` command and pass the arguments to the custom JavaScript code. The first command will see if COMPS is open in another browser tab, and if not, will open one..."
   ],
   "metadata": {
    "collapsed": false,
    "pycharm": {
     "name": "#%% md\n"
    }
   }
  },
  {
   "cell_type": "code",
   "execution_count": null,
   "outputs": [],
   "source": [
    "execute_js(comps_lib, \"comps\", {\"test\":\"window\"})"
   ],
   "metadata": {
    "collapsed": false,
    "pycharm": {
     "name": "#%%\n"
    }
   }
  },
  {
   "cell_type": "code",
   "execution_count": null,
   "outputs": [],
   "source": [
    "execute_js(comps_lib, \"comps\", {\"test\":\"cookies\"})"
   ],
   "metadata": {
    "collapsed": false,
    "pycharm": {
     "name": "#%%\n"
    }
   }
  },
  {
   "cell_type": "code",
   "execution_count": null,
   "outputs": [],
   "source": [
    "execute_js(comps_lib, \"comps\", {\"test\":\"signin\",\"username\":\"psylwester\",\"password\":\"groot\"})"
   ],
   "metadata": {
    "collapsed": false,
    "pycharm": {
     "name": "#%%\n"
    }
   }
  },
  {
   "cell_type": "code",
   "execution_count": null,
   "id": "38191feb-d5d0-4acc-967f-e0d8447df89e",
   "metadata": {},
   "outputs": [],
   "source": [
    "execute_js(comps_lib, \"comps\", {\"test\":\"signin\",\"username\":\"psylwester\",\"password\":\"groot\"})"
   ]
  },
  {
   "cell_type": "code",
   "execution_count": null,
   "id": "b0b59462-50b4-430d-b2b1-ae68f047ac5c",
   "metadata": {},
   "outputs": [],
   "source": [
    "execute_js(comps_lib, \"comps\", {\"test\":\"navigate\"});"
   ]
  },
  {
   "cell_type": "code",
   "execution_count": null,
   "id": "118c762c-5af6-4d63-8df4-12d802422d67",
   "metadata": {},
   "outputs": [],
   "source": [
    "# C:\\[path\\for\\package\\source]\n",
    "# git clone https://github.com/InstituteforDiseaseModeling/pyCOMPS.git\n",
    "# cd pyCOMPS\n",
    "# python setup.py install"
   ]
  },
  {
   "cell_type": "code",
   "execution_count": null,
   "id": "eaa94f07",
   "metadata": {},
   "outputs": [],
   "source": [
    "# pip -V\n",
    "# C:\\Users\\[username]\\AppData\\Local\\Programs\\Python\\Python39\\lib\\site-packages\\"
   ]
  },
  {
   "cell_type": "code",
   "execution_count": null,
   "id": "75cc77e4",
   "metadata": {},
   "outputs": [],
   "source": [
    "# import os\n",
    "# import sys\n",
    "# sys.path.insert(0,\"C:\\\\path\\\\to\\\\egg\")"
   ]
  },
  {
   "cell_type": "code",
   "execution_count": null,
   "id": "f21c2f1e",
   "metadata": {},
   "outputs": [],
   "source": [
    "from COMPS import Client\n",
    "from COMPS import AuthManager, CredentialPrompt\n",
    "from COMPS.Data import QueryCriteria, Experiment\n",
    "from COMPS.utils.get_output_files_for_experiment import get_files\n",
    "\n",
    "compshost = 'https://comps2.idmod.org'\n",
    "if __name__ == '__main__':\n",
    "    Client.login(compshost)\n",
    "    last_exp = Experiment.get(query_criteria=QueryCriteria().where('owner=psylwester').orderby('date_created desc').count(1))[0]\n",
    "    print(last_exp)\n",
    "    get_files(last_exp.id, ['stdout.txt'])"
   ]
  },
  {
   "cell_type": "code",
   "execution_count": null,
   "id": "66bc24c8",
   "metadata": {},
   "outputs": [],
   "source": []
  }
 ],
 "metadata": {
  "kernelspec": {
   "display_name": "Python 3 (ipykernel)",
   "language": "python",
   "name": "python3"
  },
  "language_info": {
   "codemirror_mode": {
    "name": "ipython",
    "version": 3
   },
   "file_extension": ".py",
   "mimetype": "text/x-python",
   "name": "python",
   "nbconvert_exporter": "python",
   "pygments_lexer": "ipython3",
   "version": "3.9.11"
  }
 },
 "nbformat": 4,
 "nbformat_minor": 5
}