{
 "cells": [
  {
   "cell_type": "markdown",
   "id": "526f95c4",
   "metadata": {},
   "source": [
    "###### This is pre-release documentation, but please **[log issues](https://github.com/InstituteforDiseaseModeling/jupyter-notebooks-comps/issues)** found."
   ]
  },
  {
   "cell_type": "markdown",
   "id": "f986fdd6",
   "metadata": {},
   "source": [
    "# COMPS and Jupyter `v0.0.1`"
   ]
  },
  {
   "cell_type": "markdown",
   "id": "aab402f1",
   "metadata": {},
   "source": [
    "Demonstrations of transactions between **Jupyter Notebooks** and IDM's **Computational Modeling Platform Service** (COMPS)."
   ]
  },
  {
   "cell_type": "markdown",
   "id": "73264a1f",
   "metadata": {},
   "source": [
    "COMPS provides for the submission, execution, and management of computational simulations on high-performance computing clusters (HPC). COMPS employs a scaleable RESTful service architecture, including a internet accessible website, [comps.idmod.org](https://comps.idmod.org)."
   ]
  },
  {
   "cell_type": "markdown",
   "id": "034348ab",
   "metadata": {
    "pycharm": {
     "name": "#%% md\n"
    }
   },
   "source": [
    "<blockquote style=\"background:lightpink;margin:0;padding:1rem\"><b>NOTE: This Notebook currently only works in a local development environment with version v3.7.0 of COMPS (yet to be released).</b></blockquote>"
   ]
  },
  {
   "cell_type": "code",
   "execution_count": null,
   "id": "d098116d",
   "metadata": {
    "pycharm": {
     "name": "#%%\n"
    },
    "tags": []
   },
   "outputs": [],
   "source": [
    "from IPython.display import display, Javascript, HTML\n",
    "js = '''\n",
    "    element.textContent = \"Hello IPython.display!\";\n",
    "    '''\n",
    "\n",
    "display(Javascript(js))   "
   ]
  },
  {
   "cell_type": "code",
   "execution_count": null,
   "id": "3df14197-221d-4aad-bc27-4cbc8f1efbb5",
   "metadata": {},
   "outputs": [],
   "source": [
    "from notebookjs import execute_js"
   ]
  },
  {
   "cell_type": "code",
   "execution_count": null,
   "id": "3992a2f3-e47f-4cac-bfb6-0275c58f5905",
   "metadata": {},
   "outputs": [],
   "source": [
    "hello_js = \"\"\"\n",
    "function hello(selector, data){\n",
    "    document.querySelector(selector).textContent=data.text;\n",
    "}\n",
    "\"\"\""
   ]
  },
  {
   "cell_type": "code",
   "execution_count": null,
   "id": "051cee1f-6dd5-41d8-b5d1-c3d9c660b3f3",
   "metadata": {},
   "outputs": [],
   "source": [
    "execute_js(hello_js, \"hello\", {\"text\": \"Hello NotebookJS\"})"
   ]
  },
  {
   "cell_type": "code",
   "execution_count": null,
   "id": "fc29133b-9125-4b47-80b0-6f71630963c6",
   "metadata": {},
   "outputs": [],
   "source": [
    "with open(\"./hello_comps.js\", \"r\") as f:\n",
    "    comps_lib = f.read()"
   ]
  },
  {
   "cell_type": "code",
   "execution_count": null,
   "id": "7559d7b1-5618-4374-95c4-fcdf3830d12c",
   "metadata": {},
   "outputs": [],
   "source": [
    "execute_js(comps_lib, \"comps\", {\"test\":\"cookies\"})"
   ]
  },
  {
   "cell_type": "code",
   "execution_count": null,
   "id": "38191feb-d5d0-4acc-967f-e0d8447df89e",
   "metadata": {},
   "outputs": [],
   "source": [
    "execute_js(comps_lib, \"comps\", {\"test\":\"signin\",\"username\":\"psylwester\",\"password\":\"Password123\"})"
   ]
  },
  {
   "cell_type": "code",
   "execution_count": null,
   "id": "d52a8588-2ca3-4f42-970e-3925ab733e6e",
   "metadata": {},
   "outputs": [],
   "source": [
    "execute_js(comps_lib, \"comps\", {\"test\":\"window\"})"
   ]
  },
  {
   "cell_type": "code",
   "execution_count": null,
   "id": "b0b59462-50b4-430d-b2b1-ae68f047ac5c",
   "metadata": {},
   "outputs": [],
   "source": [
    "execute_js(comps_lib, \"comps\", {\"test\":\"navigate\"});"
   ]
  },
  {
   "cell_type": "code",
   "execution_count": null,
   "id": "118c762c-5af6-4d63-8df4-12d802422d67",
   "metadata": {},
   "outputs": [],
   "source": [
    "# C:\\[path\\for\\package\\source]\n",
    "# git clone https://github.com/InstituteforDiseaseModeling/pyCOMPS.git\n",
    "# cd pyCOMPS\n",
    "# python setup.py install"
   ]
  },
  {
   "cell_type": "code",
   "execution_count": null,
   "id": "6f7f9a00",
   "metadata": {},
   "outputs": [],
   "source": [
    "# pip -V\n",
    "# C:\\Users\\[username]\\AppData\\Local\\Programs\\Python\\Python39\\lib\\site-packages\\"
   ]
  },
  {
   "cell_type": "code",
   "execution_count": null,
   "id": "f0461d81",
   "metadata": {},
   "outputs": [],
   "source": [
    "# import os\n",
    "# import sys\n",
    "# sys.path.insert(0,\"C:\\\\path\\\\to\\\\egg\")"
   ]
  },
  {
   "cell_type": "code",
   "execution_count": null,
   "id": "8ecb37d0",
   "metadata": {},
   "outputs": [],
   "source": [
    "from COMPS import Client\n",
    "from COMPS import AuthManager, CredentialPrompt\n",
    "from COMPS.Data import QueryCriteria, Experiment\n",
    "from COMPS.utils.get_output_files_for_experiment import get_files\n",
    "\n",
    "compshost = 'https://comps2.idmod.org'\n",
    "if __name__ == '__main__':\n",
    "    Client.login(compshost)\n",
    "    last_exp = Experiment.get(query_criteria=QueryCriteria().where('owner=psylwester').orderby('date_created desc').count(1))[0]\n",
    "    print(last_exp)\n",
    "    get_files(last_exp.id, ['stdout.txt'])"
   ]
  },
  {
   "cell_type": "code",
   "execution_count": null,
   "id": "24376e09",
   "metadata": {},
   "outputs": [],
   "source": []
  }
 ],
 "metadata": {
  "kernelspec": {
   "display_name": "Python 3 (ipykernel)",
   "language": "python",
   "name": "python3"
  },
  "language_info": {
   "codemirror_mode": {
    "name": "ipython",
    "version": 3
   },
   "file_extension": ".py",
   "mimetype": "text/x-python",
   "name": "python",
   "nbconvert_exporter": "python",
   "pygments_lexer": "ipython3",
   "version": "3.9.11"
  }
 },
 "nbformat": 4,
 "nbformat_minor": 5
}